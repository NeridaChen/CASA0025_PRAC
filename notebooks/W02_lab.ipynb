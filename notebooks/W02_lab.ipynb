{
  "cells": [
    {
      "cell_type": "markdown",
      "metadata": {
        "id": "LtZjMsL5rUGr"
      },
      "source": [
        "# Week 2 Lab\n",
        "\n",
        "**Datasets**:\n",
        "\n",
        "The following datasets are used in this lab.\n",
        "\n",
        "- [nyc_subway_stations.tsv](https://open.gishub.org/data/duckdb/nyc_subway_stations.tsv)\n",
        "- [nyc_neighborhoods.tsv](https://open.gishub.org/data/duckdb/nyc_neighborhoods.tsv)"
      ],
      "id": "LtZjMsL5rUGr"
    },
    {
      "cell_type": "code",
      "execution_count": null,
      "metadata": {
        "id": "7gUg5bYIrUGs"
      },
      "outputs": [],
      "source": [
        "%pip install duckdb duckdb-engine jupysql"
      ],
      "id": "7gUg5bYIrUGs"
    },
    {
      "cell_type": "code",
      "execution_count": null,
      "metadata": {
        "id": "-o16vfHgrUGs"
      },
      "outputs": [],
      "source": [
        "import duckdb\n",
        "\n",
        "%load_ext sql"
      ],
      "id": "-o16vfHgrUGs"
    },
    {
      "cell_type": "code",
      "execution_count": null,
      "metadata": {
        "id": "smpFLFzgrUGs"
      },
      "outputs": [],
      "source": [
        "%config SqlMagic.autopandas = True\n",
        "%config SqlMagic.feedback = False\n",
        "%config SqlMagic.displaycon = False"
      ],
      "id": "smpFLFzgrUGs"
    },
    {
      "cell_type": "markdown",
      "metadata": {
        "id": "KQzXc_lGrUGs"
      },
      "source": [
        "## Question 1: Creating Tables\n",
        "\n",
        "Create a database, then write a SQL query to create a table named `nyc_subway_stations` and load the data from the file `nyc_subway_stations.tsv` into it. Similarly, create a table named `nyc_neighborhoods` and load the data from the file `nyc_neighborhoods.tsv` into it."
      ],
      "id": "KQzXc_lGrUGs"
    },
    {
      "cell_type": "code",
      "execution_count": null,
      "metadata": {
        "id": "g8cB7eVCrUGs"
      },
      "outputs": [],
      "source": [
        "# Add your code here."
      ],
      "id": "g8cB7eVCrUGs"
    },
    {
      "cell_type": "markdown",
      "metadata": {
        "id": "AIi6aPGDrUGt"
      },
      "source": [
        "## Question 2: Column Filtering\n",
        "\n",
        "Write a SQL query to display the `ID`, `NAME`, and `BOROUGH` of each subway station in the `nyc_subway_stations` dataset."
      ],
      "id": "AIi6aPGDrUGt"
    },
    {
      "cell_type": "code",
      "execution_count": null,
      "metadata": {
        "id": "TTG8rJB3rUGt"
      },
      "outputs": [],
      "source": [
        "# Add your code here."
      ],
      "id": "TTG8rJB3rUGt"
    },
    {
      "cell_type": "markdown",
      "metadata": {
        "id": "EyhBqCEUrUGt"
      },
      "source": [
        "## Question 3: Row Filtering\n",
        "\n",
        "Write a SQL query to find all subway stations in the `nyc_subway_stations` dataset that are located in the borough of Manhattan."
      ],
      "id": "EyhBqCEUrUGt"
    },
    {
      "cell_type": "code",
      "execution_count": null,
      "metadata": {
        "id": "UEaF2MHxrUGt"
      },
      "outputs": [],
      "source": [
        "# Add your code here."
      ],
      "id": "UEaF2MHxrUGt"
    },
    {
      "cell_type": "markdown",
      "metadata": {
        "id": "nSPOUBylrUGt"
      },
      "source": [
        "## Question 4: Sorting Results\n",
        "\n",
        "Write a SQL query to list the subway stations in the `nyc_subway_stations` dataset in alphabetical order by their names."
      ],
      "id": "nSPOUBylrUGt"
    },
    {
      "cell_type": "code",
      "execution_count": null,
      "metadata": {
        "id": "hYebT5n4rUGt"
      },
      "outputs": [],
      "source": [
        "# Add your code here."
      ],
      "id": "hYebT5n4rUGt"
    },
    {
      "cell_type": "markdown",
      "metadata": {
        "id": "O117Y7elrUGt"
      },
      "source": [
        "## Question 5: Unique Values\n",
        "\n",
        "Write a SQL query to find the distinct boroughs represented in the `nyc_subway_stations` dataset."
      ],
      "id": "O117Y7elrUGt"
    },
    {
      "cell_type": "code",
      "execution_count": null,
      "metadata": {
        "id": "0WhfznkwrUGt"
      },
      "outputs": [],
      "source": [
        "# Add your code here."
      ],
      "id": "0WhfznkwrUGt"
    },
    {
      "cell_type": "markdown",
      "metadata": {
        "id": "I08KrytarUGt"
      },
      "source": [
        "## Question 6: Counting Rows\n",
        "\n",
        "Write a SQL query to count the number of subway stations in each borough in the `nyc_subway_stations` dataset."
      ],
      "id": "I08KrytarUGt"
    },
    {
      "cell_type": "code",
      "execution_count": null,
      "metadata": {
        "id": "vU5W8wE3rUGt"
      },
      "outputs": [],
      "source": [
        "# Add your code here."
      ],
      "id": "vU5W8wE3rUGt"
    },
    {
      "cell_type": "markdown",
      "metadata": {
        "id": "K1iR7FqdrUGt"
      },
      "source": [
        "## Question 7: Aggregating Data\n",
        "\n",
        "Write a SQL query to list the number of subway stations in each borough, sorted in descending order by the count."
      ],
      "id": "K1iR7FqdrUGt"
    },
    {
      "cell_type": "code",
      "execution_count": null,
      "metadata": {
        "id": "odzoQmJBrUGt"
      },
      "outputs": [],
      "source": [
        "# Add your code here."
      ],
      "id": "odzoQmJBrUGt"
    },
    {
      "cell_type": "markdown",
      "metadata": {
        "id": "3KYeS4rUrUGt"
      },
      "source": [
        "## Question 8: Joining Tables\n",
        "\n",
        "Write a SQL query to join the `nyc_subway_stations` and `nyc_neighborhoods` datasets on the borough name, displaying the subway station name and the neighborhood name."
      ],
      "id": "3KYeS4rUrUGt"
    },
    {
      "cell_type": "code",
      "execution_count": null,
      "metadata": {
        "id": "M6bThMfCrUGt"
      },
      "outputs": [],
      "source": [
        "# Add your code here."
      ],
      "id": "M6bThMfCrUGt"
    },
    {
      "cell_type": "markdown",
      "metadata": {
        "id": "nHaX-bUbrUGt"
      },
      "source": [
        "## Question 9: String Manipulation\n",
        "\n",
        "Write a SQL query to display the names of subway stations in the `nyc_subway_stations` dataset that contain the word \"St\" in their names."
      ],
      "id": "nHaX-bUbrUGt"
    },
    {
      "cell_type": "code",
      "execution_count": null,
      "metadata": {
        "id": "Z-hV-OYwrUGt"
      },
      "outputs": [],
      "source": [
        "# Add your code here."
      ],
      "id": "Z-hV-OYwrUGt"
    },
    {
      "cell_type": "markdown",
      "metadata": {
        "id": "wRObnSlKrUGt"
      },
      "source": [
        "## Question 10: Filtering with Multiple Conditions\n",
        "\n",
        "Write a SQL query to find all subway stations in the `nyc_subway_stations` dataset that are in the borough of Brooklyn and have routes that include the letter \"R\"."
      ],
      "id": "wRObnSlKrUGt"
    },
    {
      "cell_type": "code",
      "execution_count": null,
      "metadata": {
        "id": "bxhaNAf0rUGt"
      },
      "outputs": [],
      "source": [
        "# Add your code here."
      ],
      "id": "bxhaNAf0rUGt"
    },
    {
      "cell_type": "markdown",
      "id": "2a78cbfd",
      "metadata": {
        "id": "2a78cbfd"
      },
      "source": [
        "Once you've completed your attempt, you can check your answers [here](https://github.com/oballinger/CASA0025/blob/main/notebooks/W02_lab_solution.ipynb)."
      ]
    }
  ],
  "metadata": {
    "kernelspec": {
      "display_name": "Python 3",
      "language": "python",
      "name": "python3"
    },
    "language_info": {
      "codemirror_mode": {
        "name": "ipython",
        "version": 3
      },
      "file_extension": ".py",
      "mimetype": "text/x-python",
      "name": "python",
      "nbconvert_exporter": "python",
      "pygments_lexer": "ipython3",
      "version": "3.9.18"
    },
    "colab": {
      "provenance": []
    }
  },
  "nbformat": 4,
  "nbformat_minor": 5
}